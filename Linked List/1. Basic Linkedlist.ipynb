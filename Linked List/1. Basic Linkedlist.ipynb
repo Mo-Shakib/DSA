{
 "cells": [
  {
   "cell_type": "markdown",
   "id": "5927bbb2",
   "metadata": {},
   "source": [
    "# Introduction to Linkedlist"
   ]
  },
  {
   "attachments": {
    "image.png": {
     "image/png": "[encoded data removed]"
    }
   },
   "cell_type": "markdown",
   "id": "4b8691fd",
   "metadata": {},
   "source": [
    "![image.png](attachment:image.png)"
   ]
  },
  {
   "cell_type": "markdown",
   "id": "b0d9be99",
   "metadata": {},
   "source": [
    "#### If have access to the HEAD that means you have access to all the elements of the Linkedlist."
   ]
  },
  {
   "cell_type": "markdown",
   "id": "0703faab",
   "metadata": {},
   "source": [
    "### Linkedlist Node"
   ]
  },
  {
   "cell_type": "code",
   "execution_count": 6,
   "id": "dd6d2b80",
   "metadata": {},
   "outputs": [
    {
     "name": "stdout",
     "output_type": "stream",
     "text": [
      "10\n",
      "<__main__.Node object at 0x0000022A759AFC10>\n",
      "15\n",
      "<__main__.Node object at 0x0000022A75830700>\n",
      "20\n",
      "None\n"
     ]
    }
   ],
   "source": [
    "# Linkedlist Node class\n",
    "class Node:\n",
    "    def __init__(self, data):\n",
    "        self.data = data\n",
    "        self.next = None\n",
    "\n",
    "\n",
    "a = Node(10)\n",
    "b = Node(15)\n",
    "c = Node(20)\n",
    "a.next = b\n",
    "b.next = c\n",
    "\n",
    "# 10 -> 15 -> 20 -> None\n",
    "\n",
    "print(a.data) # data\n",
    "print(a.next) # address\n",
    "print(a.next.data) # data\n",
    "print(a.next.next) # address\n",
    "print(a.next.next.data) # data\n",
    "print(a.next.next.next) # address"
   ]
  },
  {
   "cell_type": "markdown",
   "id": "1a8d8e6c",
   "metadata": {},
   "source": [
    "### Linkedlist Input"
   ]
  },
  {
   "cell_type": "code",
   "execution_count": 11,
   "id": "7f7767ef",
   "metadata": {},
   "outputs": [
    {
     "name": "stdout",
     "output_type": "stream",
     "text": [
      "1 2 3 4 5\n"
     ]
    }
   ],
   "source": [
    "# Take input of a linkedlist\n",
    "def takeInput():\n",
    "    inputList = [int(ele) for ele in input().split()]\n",
    "    head = None\n",
    "    for currData in inputList:\n",
    "        newNode = Node(currData)\n",
    "        if head is None:\n",
    "            head  = newNode\n",
    "        else:\n",
    "            curr = head\n",
    "            while curr.next != None:\n",
    "                curr = curr.next\n",
    "            curr.next = newNode\n",
    "            \n",
    "    return head\n",
    "\n",
    "# Print Linkdelist\n",
    "def printLinkedlist(head):\n",
    "    while head is not None:\n",
    "        print(head.data, end='-> ')\n",
    "        head = head.next\n",
    "    print('None')\n",
    "    return\n",
    "\n",
    "head = takeInput()"
   ]
  },
  {
   "cell_type": "code",
   "execution_count": 10,
   "id": "069268ce",
   "metadata": {},
   "outputs": [
    {
     "name": "stdout",
     "output_type": "stream",
     "text": [
      "1->2->3->4->5->None\n"
     ]
    }
   ],
   "source": [
    "printLinkedlist(head)"
   ]
  }
 ],
 "metadata": {
  "kernelspec": {
   "display_name": "Python 3 (ipykernel)",
   "language": "python",
   "name": "python3"
  },
  "language_info": {
   "codemirror_mode": {
    "name": "ipython",
    "version": 3
   },
   "file_extension": ".py",
   "mimetype": "text/x-python",
   "name": "python",
   "nbconvert_exporter": "python",
   "pygments_lexer": "ipython3",
   "version": "3.9.6"
  }
 },
 "nbformat": 4,
 "nbformat_minor": 5
}
