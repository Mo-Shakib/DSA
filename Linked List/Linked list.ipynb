{
 "cells": [
  {
   "cell_type": "code",
   "execution_count": null,
   "id": "9d95003c",
   "metadata": {},
   "outputs": [],
   "source": [
    "#Creating a list\n",
    "#----------------#\n",
    "class Node:\n",
    "    #element - variable used to store the value\n",
    "    #next - variable used to reference to link to the next node\n",
    "    def __init__(self, e, n):\n",
    "        self.element = e \n",
    "        self.next = n\n",
    "#---------------------Tester-----------------------#\n",
    "#Starting of the Node\n",
    "head = None\n",
    "\n",
    "#Creating the nodes first\n",
    "n1 = Node(\"10\",None)\n",
    "n2 = Node(\"20\",None)\n",
    "\n",
    "n1.next = n2\n",
    "\n",
    "#Assigning the head reference to the list\n",
    "head = n1\n",
    "\n",
    "# --------------------------------------------------------------------------\n",
    "\n",
    "#Creating a list\n",
    "\n",
    "class Node:\n",
    "    #element - variable used to store the value\n",
    "    #next - variable used to reference to link to the next node\n",
    "    def __init__(self, e, n):\n",
    "        self.element = e \n",
    "        self.next = n\n",
    "\n",
    "#---------------------Tester-----------------------#\n",
    "\n",
    "#Starting of the Node\n",
    "head = None\n",
    "\n",
    "#Creating the nodes first\n",
    "n4 = Node(\"40\",None)\n",
    "n3 = Node(\"30\",n4)\n",
    "n2 = Node(\"20\",n3)\n",
    "n1 = Node(\"10\",n2)\n",
    "\n",
    "#Assigning the head reference to the list\n",
    "head = n1"
   ]
  },
  {
   "cell_type": "markdown",
   "id": "0544cb06",
   "metadata": {},
   "source": [
    "### Basic Linked List manipulations"
   ]
  },
  {
   "cell_type": "code",
   "execution_count": 7,
   "id": "917954be",
   "metadata": {},
   "outputs": [
    {
     "ename": "NameError",
     "evalue": "name 'head' is not defined",
     "output_type": "error",
     "traceback": [
      "\u001b[1;31m---------------------------------------------------------------------------\u001b[0m",
      "\u001b[1;31mNameError\u001b[0m                                 Traceback (most recent call last)",
      "\u001b[1;32m<ipython-input-7-055f0bd8d4bb>\u001b[0m in \u001b[0;36m<module>\u001b[1;34m\u001b[0m\n\u001b[0;32m      1\u001b[0m \u001b[1;31m#Iteration ----------------\u001b[0m\u001b[1;33m\u001b[0m\u001b[1;33m\u001b[0m\u001b[1;33m\u001b[0m\u001b[0m\n\u001b[1;32m----> 2\u001b[1;33m \u001b[0mn\u001b[0m \u001b[1;33m=\u001b[0m \u001b[0mhead\u001b[0m\u001b[1;33m\u001b[0m\u001b[1;33m\u001b[0m\u001b[0m\n\u001b[0m\u001b[0;32m      3\u001b[0m \u001b[1;33m\u001b[0m\u001b[0m\n\u001b[0;32m      4\u001b[0m \u001b[1;32mwhile\u001b[0m \u001b[0mn\u001b[0m \u001b[1;32mis\u001b[0m \u001b[1;32mnot\u001b[0m \u001b[1;32mNone\u001b[0m\u001b[1;33m:\u001b[0m\u001b[1;33m\u001b[0m\u001b[1;33m\u001b[0m\u001b[0m\n\u001b[0;32m      5\u001b[0m \u001b[1;33m\u001b[0m\u001b[0m\n",
      "\u001b[1;31mNameError\u001b[0m: name 'head' is not defined"
     ]
    }
   ],
   "source": [
    "#Iteration ----------------\n",
    "n = head\n",
    "\n",
    "while n is not None:\n",
    "\n",
    "    #do something\n",
    "\n",
    "    n = n.next"
   ]
  },
  {
   "cell_type": "code",
   "execution_count": 3,
   "id": "7bce05cd",
   "metadata": {},
   "outputs": [],
   "source": [
    "#Count Node Function\n",
    "\n",
    "def countNode(head):\n",
    "\n",
    "    count = 0\n",
    "\n",
    "    n = head\n",
    "\n",
    "    while n is not None:\n",
    "\n",
    "        count = count + 1\n",
    "\n",
    "        n = n.next\n",
    "\n",
    "    return count"
   ]
  },
  {
   "cell_type": "code",
   "execution_count": 4,
   "id": "777edc0d",
   "metadata": {},
   "outputs": [],
   "source": [
    "#Get Function\n",
    "\n",
    "def get(head,index):\n",
    "\n",
    "    c = 0\n",
    "\n",
    "    n = head\n",
    "\n",
    "    while n is not None:\n",
    "\n",
    "        if c==index:\n",
    "\n",
    "            return n.element\n",
    "\n",
    "        c = c + 1\n",
    "\n",
    "        n = n.next\n",
    "\n",
    "    return -1"
   ]
  },
  {
   "cell_type": "code",
   "execution_count": 5,
   "id": "ba84c282",
   "metadata": {},
   "outputs": [],
   "source": [
    "#nodeAt Function\n",
    "\n",
    "def nodeAt(head, size, index):\n",
    "\n",
    "    if(index<0 or index>=size):\n",
    "\n",
    "        return None\n",
    "\n",
    "    n = head\n",
    "\n",
    "    for i in range(0,index):\n",
    "\n",
    "        n = n.next\n",
    "\n",
    "    return n"
   ]
  },
  {
   "cell_type": "code",
   "execution_count": 6,
   "id": "7508e76c",
   "metadata": {},
   "outputs": [],
   "source": [
    "#Set Function\n",
    "\n",
    "def set(head,index,elem):\n",
    "\n",
    "    c = 0\n",
    "\n",
    "    n = head\n",
    "\n",
    "    while n is not None:\n",
    "\n",
    "        if c==index:\n",
    "\n",
    "            n.element = elem\n",
    "\n",
    "        c = c + 1\n",
    "\n",
    "        n = n.next"
   ]
  },
  {
   "cell_type": "code",
   "execution_count": 8,
   "id": "d470f880",
   "metadata": {},
   "outputs": [],
   "source": [
    "#indexOf Function\n",
    "\n",
    "def indexOf(head, elem):\n",
    "\n",
    "    i = 0\n",
    "\n",
    "    n = head\n",
    "\n",
    "    while n is not None:\n",
    "\n",
    "        if n.element==elem:\n",
    "\n",
    "            return i\n",
    "\n",
    "        i = i + 1\n",
    "\n",
    "        n = n.next\n",
    "\n",
    "    return -1"
   ]
  },
  {
   "cell_type": "markdown",
   "id": "bfdebb75",
   "metadata": {},
   "source": [
    "## Linked List"
   ]
  },
  {
   "cell_type": "code",
   "execution_count": 9,
   "id": "7ba873d3",
   "metadata": {},
   "outputs": [
    {
     "name": "stdout",
     "output_type": "stream",
     "text": [
      "1 - <__main__.Node object at 0x0000026E6F481400>\n",
      "2 - <__main__.Node object at 0x0000026E6F3DDE80>\n",
      "3 - <__main__.Node object at 0x0000026E6F3DD070>\n",
      "4 - <__main__.Node object at 0x0000026E6F3AEF70>\n",
      "5 - None\n"
     ]
    }
   ],
   "source": [
    "class Node:\n",
    "    def __init__(self, value, next):\n",
    "        self.value = value\n",
    "        self.next = next\n",
    "\n",
    "    def printNode(self):\n",
    "        print(self.value, '-', self.next)\n",
    "\n",
    "class LinkedList:\n",
    "    def __init__(self, a):\n",
    "        self.head = None\n",
    "        tail = None\n",
    "\n",
    "        for i in a:\n",
    "            n = Node(i, None)\n",
    "            if (self.head is None):\n",
    "                self.head = n\n",
    "                tail = n\n",
    "            else:\n",
    "                tail.next = n\n",
    "                tail = n\n",
    "\n",
    "    def printList(self):\n",
    "        n = self.head\n",
    "        while (n is not None):\n",
    "            n.printNode()\n",
    "            n = n.next\n",
    "\n",
    "# ------Taster class --------------------------------\n",
    "\n",
    "list1 = [1, 2, 3, 4, 5]\n",
    "list2 = LinkedList(list1)\n",
    "\n",
    "list2.printList()"
   ]
  },
  {
   "cell_type": "code",
   "execution_count": null,
   "id": "96d28393",
   "metadata": {},
   "outputs": [],
   "source": []
  }
 ],
 "metadata": {
  "kernelspec": {
   "display_name": "Python 3",
   "language": "python",
   "name": "python3"
  },
  "language_info": {
   "codemirror_mode": {
    "name": "ipython",
    "version": 3
   },
   "file_extension": ".py",
   "mimetype": "text/x-python",
   "name": "python",
   "nbconvert_exporter": "python",
   "pygments_lexer": "ipython3",
   "version": "3.9.4"
  }
 },
 "nbformat": 4,
 "nbformat_minor": 5
}
